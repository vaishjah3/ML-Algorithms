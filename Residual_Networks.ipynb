{
  "nbformat": 4,
  "nbformat_minor": 0,
  "metadata": {
    "colab": {
      "provenance": [],
      "gpuType": "T4",
      "authorship_tag": "ABX9TyNfeU70WTTs4o89S7IvH7Sm",
      "include_colab_link": true
    },
    "kernelspec": {
      "name": "python3",
      "display_name": "Python 3"
    },
    "language_info": {
      "name": "python"
    },
    "accelerator": "GPU"
  },
  "cells": [
    {
      "cell_type": "markdown",
      "metadata": {
        "id": "view-in-github",
        "colab_type": "text"
      },
      "source": [
        "<a href=\"https://colab.research.google.com/github/vaishjah3/ML-Algorithms/blob/main/Residual_Networks.ipynb\" target=\"_parent\"><img src=\"https://colab.research.google.com/assets/colab-badge.svg\" alt=\"Open In Colab\"/></a>"
      ]
    },
    {
      "cell_type": "code",
      "source": [
        "import torch\n",
        "import torch.nn as nn\n",
        "import torchvision\n",
        "import torchvision.transforms as transforms"
      ],
      "metadata": {
        "id": "JmxCKtIagg0C"
      },
      "execution_count": 11,
      "outputs": []
    },
    {
      "cell_type": "code",
      "source": [
        "device=torch.device('cuda' if torch.cuda.is_available() else 'cpu')\n",
        "num_epochs=25\n",
        "batch_size=100\n",
        "learning_rate=0.01"
      ],
      "metadata": {
        "id": "n1D6-KFXhjTP"
      },
      "execution_count": 12,
      "outputs": []
    },
    {
      "cell_type": "code",
      "source": [
        "transform=transforms.Compose([transforms.Pad(4),\n",
        "                              transforms.RandomHorizontalFlip(),\n",
        "                              transforms.RandomCrop(32),\n",
        "                              transforms.ToTensor()])"
      ],
      "metadata": {
        "id": "M_49ei-YZbH-"
      },
      "execution_count": 13,
      "outputs": []
    },
    {
      "cell_type": "code",
      "source": [
        "train_dataset=torchvision.datasets.CIFAR10(root='./data',\n",
        "                                           download=True,\n",
        "                                           train=True,\n",
        "                                           transform=transform)\n",
        "test_dataset=torchvision.datasets.CIFAR10(root='./data',\n",
        "                                          download=True,\n",
        "                                          train=False,\n",
        "                                          transform=transform)\n",
        "\n",
        "train_loader=torch.utils.data.DataLoader(dataset=train_dataset,\n",
        "                                         batch_size=batch_size,\n",
        "                                         shuffle=True)\n",
        "test_loader=torch.utils.data.DataLoader(dataset=test_dataset,\n",
        "                                        batch_size=batch_size,\n",
        "                                        shuffle=False)"
      ],
      "metadata": {
        "colab": {
          "base_uri": "https://localhost:8080/"
        },
        "id": "6mtP-9FdZzPn",
        "outputId": "f6a6b95c-6581-4491-d7a8-a5c8e26b7e85"
      },
      "execution_count": 14,
      "outputs": [
        {
          "output_type": "stream",
          "name": "stdout",
          "text": [
            "Files already downloaded and verified\n",
            "Files already downloaded and verified\n"
          ]
        }
      ]
    },
    {
      "cell_type": "code",
      "source": [
        "def conv3x3(in_channels, out_channels, stride=1):\n",
        "  return nn.Conv2d(in_channels, out_channels, kernel_size=3,stride=stride, padding=1, bias=False)\n",
        "\n",
        "class ResidualBlock(nn.Module):\n",
        "  def __init__(self, in_channels, out_channels, stride=1, downsample=None):\n",
        "    super(ResidualBlock, self).__init__()\n",
        "    self.conv1=conv3x3(in_channels, out_channels, stride)\n",
        "    self.bn1=nn.BatchNorm2d(out_channels)\n",
        "    self.relu=nn.ReLU(inplace=True)\n",
        "    self.conv2=conv3x3(out_channels, out_channels)\n",
        "    self.bn2=nn.BatchNorm2d(out_channels)\n",
        "    self.downsample=downsample\n",
        "\n",
        "  def forward(self,x):\n",
        "    residual=x\n",
        "    out=self.conv1(x)\n",
        "    out=self.bn1(out)\n",
        "    out=self.relu(out)\n",
        "    out=self.conv2(out)\n",
        "    out=self.bn2(out)\n",
        "    if self.downsample:\n",
        "      residual=self.downsample(x)\n",
        "    out+=residual\n",
        "    out=self.relu(out)\n",
        "    return out\n"
      ],
      "metadata": {
        "id": "eN5droFbbUFJ"
      },
      "execution_count": 15,
      "outputs": []
    },
    {
      "cell_type": "code",
      "source": [
        "class ResNet(nn.Module):\n",
        "  def __init__(self, block, layers, num_classes=10):\n",
        "    super(ResNet, self).__init__()\n",
        "    self.in_channels=16\n",
        "    self.conv=conv3x3(3, 16)\n",
        "    self.bn=nn.BatchNorm2d(16)\n",
        "    self.relu=nn.ReLU(inplace=True)\n",
        "    self.layer1=self.make_layer(block, 16, layers[0])\n",
        "    self.layer2=self.make_layer(block, 32, layers[1],2)\n",
        "    self.layer3=self.make_layer(block, 64, layers[2],2)\n",
        "    self.avg_pool=nn.AvgPool2d(8)\n",
        "    self.fc=nn.Linear(64, num_classes)\n",
        "\n",
        "  def make_layer(self, block, out_channels, blocks, stride=1):\n",
        "    downsample=None\n",
        "    if (stride!=1) or (self.in_channels !=out_channels):\n",
        "      downsample=nn.Sequential(conv3x3(self.in_channels, out_channels, stride),\n",
        "                               nn.BatchNorm2d(out_channels))\n",
        "    layers=[]\n",
        "    layers.append(block(self.in_channels, out_channels, stride,downsample))\n",
        "    self.in_channels=out_channels\n",
        "    for i in range(1, blocks):\n",
        "      layers.append(block(out_channels, out_channels))\n",
        "    return nn.Sequential(*layers)\n",
        "\n",
        "  def forward(self,x):\n",
        "    out=self.conv(x)\n",
        "    out=self.bn(out)\n",
        "    out=self.relu(out)\n",
        "    out=self.layer1(out)\n",
        "    out=self.layer2(out)\n",
        "    out=self.layer3(out)\n",
        "    out=self.avg_pool(out)\n",
        "    out=out.view(out.size(0), -1)\n",
        "    out=self.fc(out)\n",
        "    return out\n"
      ],
      "metadata": {
        "id": "7jS0FBQvo3fF"
      },
      "execution_count": 16,
      "outputs": []
    },
    {
      "cell_type": "code",
      "source": [
        "model=ResNet(ResidualBlock, [2,2,2]).to(device)\n",
        "criterion=nn.CrossEntropyLoss()\n",
        "optimizer=torch.optim.Adam(model.parameters(), lr=learning_rate)"
      ],
      "metadata": {
        "id": "rf9R2zgA0wlN"
      },
      "execution_count": 17,
      "outputs": []
    },
    {
      "cell_type": "code",
      "source": [
        "decay=0\n",
        "model.train()\n",
        "for epoch in range(num_epochs):\n",
        "  if (epoch+1)%20==0:\n",
        "    decay+=1\n",
        "    optimizer.param_groups[0]['lr']=learning_rate *(0.09**decay)\n",
        "    print(\"The new learning rate is {}\".format(optimizer.param_groups[0]['lr']))\n",
        "\n",
        "\n",
        "  for i, (images, labels) in enumerate(train_loader):\n",
        "    images=images.to(device)\n",
        "    labels=labels.to(device)\n",
        "    output=model(images)\n",
        "    loss=criterion(output ,labels)\n",
        "    optimizer.zero_grad()\n",
        "    loss.backward()\n",
        "    optimizer.step()\n",
        "\n",
        "    if (i+1) %100==0:\n",
        "      print (\"Epoch [{}/{}], Step [{}/{}] Loss: {:.4f}\"\n",
        "            .format(epoch+1, num_epochs, i+1, len(train_loader), loss.item()))"
      ],
      "metadata": {
        "colab": {
          "base_uri": "https://localhost:8080/"
        },
        "id": "tSHjOtumxgn9",
        "outputId": "6f8f69da-8c67-4311-fc9b-b9576e0112d6"
      },
      "execution_count": 22,
      "outputs": [
        {
          "output_type": "stream",
          "name": "stdout",
          "text": [
            "Epoch [1/25], Step [100/500] Loss: 0.2843\n",
            "Epoch [1/25], Step [200/500] Loss: 0.1918\n",
            "Epoch [1/25], Step [300/500] Loss: 0.1588\n",
            "Epoch [1/25], Step [400/500] Loss: 0.1016\n",
            "Epoch [1/25], Step [500/500] Loss: 0.2090\n",
            "Epoch [2/25], Step [100/500] Loss: 0.1256\n",
            "Epoch [2/25], Step [200/500] Loss: 0.1005\n",
            "Epoch [2/25], Step [300/500] Loss: 0.1227\n",
            "Epoch [2/25], Step [400/500] Loss: 0.1775\n",
            "Epoch [2/25], Step [500/500] Loss: 0.2394\n",
            "Epoch [3/25], Step [100/500] Loss: 0.1671\n",
            "Epoch [3/25], Step [200/500] Loss: 0.1849\n",
            "Epoch [3/25], Step [300/500] Loss: 0.1519\n",
            "Epoch [3/25], Step [400/500] Loss: 0.1979\n",
            "Epoch [3/25], Step [500/500] Loss: 0.0893\n",
            "Epoch [4/25], Step [100/500] Loss: 0.1773\n",
            "Epoch [4/25], Step [200/500] Loss: 0.2477\n",
            "Epoch [4/25], Step [300/500] Loss: 0.1662\n",
            "Epoch [4/25], Step [400/500] Loss: 0.0954\n",
            "Epoch [4/25], Step [500/500] Loss: 0.3105\n",
            "Epoch [5/25], Step [100/500] Loss: 0.3486\n",
            "Epoch [5/25], Step [300/500] Loss: 0.2068\n",
            "Epoch [5/25], Step [400/500] Loss: 0.1370\n",
            "Epoch [5/25], Step [500/500] Loss: 0.2123\n",
            "Epoch [6/25], Step [100/500] Loss: 0.1510\n",
            "Epoch [6/25], Step [200/500] Loss: 0.1297\n",
            "Epoch [6/25], Step [300/500] Loss: 0.1434\n",
            "Epoch [6/25], Step [400/500] Loss: 0.1550\n",
            "Epoch [6/25], Step [500/500] Loss: 0.1683\n",
            "Epoch [7/25], Step [100/500] Loss: 0.2226\n",
            "Epoch [7/25], Step [200/500] Loss: 0.1736\n",
            "Epoch [7/25], Step [300/500] Loss: 0.1606\n",
            "Epoch [7/25], Step [400/500] Loss: 0.2378\n",
            "Epoch [7/25], Step [500/500] Loss: 0.1979\n",
            "Epoch [8/25], Step [100/500] Loss: 0.1240\n",
            "Epoch [8/25], Step [200/500] Loss: 0.1603\n",
            "Epoch [8/25], Step [300/500] Loss: 0.2892\n",
            "Epoch [8/25], Step [400/500] Loss: 0.2173\n",
            "Epoch [8/25], Step [500/500] Loss: 0.2081\n",
            "Epoch [9/25], Step [100/500] Loss: 0.1469\n",
            "Epoch [9/25], Step [200/500] Loss: 0.2551\n",
            "Epoch [9/25], Step [300/500] Loss: 0.2057\n",
            "Epoch [9/25], Step [400/500] Loss: 0.1515\n",
            "Epoch [9/25], Step [500/500] Loss: 0.1871\n",
            "Epoch [10/25], Step [100/500] Loss: 0.2442\n",
            "Epoch [10/25], Step [200/500] Loss: 0.3501\n",
            "Epoch [10/25], Step [300/500] Loss: 0.1890\n",
            "Epoch [10/25], Step [400/500] Loss: 0.1439\n",
            "Epoch [10/25], Step [500/500] Loss: 0.1404\n",
            "Epoch [11/25], Step [100/500] Loss: 0.1592\n",
            "Epoch [11/25], Step [200/500] Loss: 0.3805\n",
            "Epoch [11/25], Step [300/500] Loss: 0.1443\n",
            "Epoch [11/25], Step [400/500] Loss: 0.2086\n",
            "Epoch [11/25], Step [500/500] Loss: 0.1851\n",
            "Epoch [12/25], Step [100/500] Loss: 0.1853\n",
            "Epoch [12/25], Step [200/500] Loss: 0.1483\n",
            "Epoch [12/25], Step [300/500] Loss: 0.0703\n",
            "Epoch [12/25], Step [400/500] Loss: 0.1324\n",
            "Epoch [12/25], Step [500/500] Loss: 0.1495\n",
            "Epoch [13/25], Step [100/500] Loss: 0.1375\n",
            "Epoch [13/25], Step [200/500] Loss: 0.2835\n",
            "Epoch [13/25], Step [300/500] Loss: 0.2296\n",
            "Epoch [13/25], Step [400/500] Loss: 0.1429\n",
            "Epoch [13/25], Step [500/500] Loss: 0.2198\n",
            "Epoch [14/25], Step [100/500] Loss: 0.1209\n",
            "Epoch [14/25], Step [200/500] Loss: 0.2198\n",
            "Epoch [14/25], Step [300/500] Loss: 0.1513\n",
            "Epoch [14/25], Step [400/500] Loss: 0.1580\n",
            "Epoch [14/25], Step [500/500] Loss: 0.1327\n",
            "Epoch [15/25], Step [100/500] Loss: 0.3014\n",
            "Epoch [15/25], Step [200/500] Loss: 0.1186\n",
            "Epoch [15/25], Step [300/500] Loss: 0.2473\n",
            "Epoch [15/25], Step [400/500] Loss: 0.1645\n",
            "Epoch [15/25], Step [500/500] Loss: 0.1189\n",
            "Epoch [16/25], Step [100/500] Loss: 0.1669\n",
            "Epoch [16/25], Step [200/500] Loss: 0.2004\n",
            "Epoch [16/25], Step [400/500] Loss: 0.1781\n",
            "Epoch [16/25], Step [500/500] Loss: 0.1443\n",
            "Epoch [17/25], Step [100/500] Loss: 0.1324\n",
            "Epoch [17/25], Step [200/500] Loss: 0.2165\n",
            "Epoch [17/25], Step [300/500] Loss: 0.1334\n",
            "Epoch [17/25], Step [400/500] Loss: 0.1233\n",
            "Epoch [17/25], Step [500/500] Loss: 0.1044\n",
            "Epoch [18/25], Step [100/500] Loss: 0.1591\n",
            "Epoch [18/25], Step [200/500] Loss: 0.2847\n",
            "Epoch [18/25], Step [300/500] Loss: 0.1003\n",
            "Epoch [18/25], Step [400/500] Loss: 0.1233\n",
            "Epoch [18/25], Step [500/500] Loss: 0.2203\n",
            "Epoch [19/25], Step [100/500] Loss: 0.1453\n",
            "Epoch [19/25], Step [200/500] Loss: 0.1590\n",
            "Epoch [19/25], Step [300/500] Loss: 0.1735\n",
            "Epoch [19/25], Step [400/500] Loss: 0.1218\n",
            "Epoch [19/25], Step [500/500] Loss: 0.2978\n",
            "The new learning rate is 0.0009\n",
            "Epoch [20/25], Step [100/500] Loss: 0.2537\n",
            "Epoch [20/25], Step [200/500] Loss: 0.2179\n",
            "Epoch [20/25], Step [400/500] Loss: 0.2107\n",
            "Epoch [20/25], Step [500/500] Loss: 0.2178\n",
            "Epoch [21/25], Step [100/500] Loss: 0.1153\n",
            "Epoch [21/25], Step [200/500] Loss: 0.2004\n",
            "Epoch [21/25], Step [300/500] Loss: 0.1935\n",
            "Epoch [21/25], Step [400/500] Loss: 0.2196\n",
            "Epoch [21/25], Step [500/500] Loss: 0.1513\n",
            "Epoch [22/25], Step [100/500] Loss: 0.1515\n",
            "Epoch [22/25], Step [200/500] Loss: 0.1413\n",
            "Epoch [22/25], Step [300/500] Loss: 0.2224\n",
            "Epoch [22/25], Step [400/500] Loss: 0.1186\n",
            "Epoch [22/25], Step [500/500] Loss: 0.1246\n",
            "Epoch [23/25], Step [100/500] Loss: 0.1398\n",
            "Epoch [23/25], Step [200/500] Loss: 0.1950\n",
            "Epoch [23/25], Step [300/500] Loss: 0.1115\n",
            "Epoch [23/25], Step [400/500] Loss: 0.1281\n",
            "Epoch [23/25], Step [500/500] Loss: 0.1626\n",
            "Epoch [24/25], Step [100/500] Loss: 0.1732\n",
            "Epoch [24/25], Step [200/500] Loss: 0.0911\n",
            "Epoch [24/25], Step [300/500] Loss: 0.2539\n",
            "Epoch [24/25], Step [400/500] Loss: 0.2584\n",
            "Epoch [24/25], Step [500/500] Loss: 0.1126\n",
            "Epoch [25/25], Step [100/500] Loss: 0.1368\n",
            "Epoch [25/25], Step [200/500] Loss: 0.1826\n",
            "Epoch [25/25], Step [300/500] Loss: 0.1313\n",
            "Epoch [25/25], Step [400/500] Loss: 0.1567\n",
            "Epoch [25/25], Step [500/500] Loss: 0.1026\n"
          ]
        }
      ]
    },
    {
      "cell_type": "code",
      "source": [
        "model.eval()\n",
        "with torch.no_grad():\n",
        "  correct=0\n",
        "  total=0\n",
        "  for imgaes, labels in test_loader:\n",
        "    images=images.to(device)\n",
        "    labels=labels.to(device)\n",
        "    outputs=model(images)\n",
        "    _,predicted=torch.max(output.data, 1)\n",
        "    total+=labels.size(0)\n",
        "    correct+=(predicted==labels).sum().item()\n",
        "\n",
        "  print('Accuracy of the model on the test images: {} %'.format(100 * correct / total))"
      ],
      "metadata": {
        "colab": {
          "base_uri": "https://localhost:8080/"
        },
        "id": "JLMJDLB070U2",
        "outputId": "e7d1902f-9b0b-46a2-8cda-982f36f2b690"
      },
      "execution_count": 23,
      "outputs": [
        {
          "output_type": "stream",
          "name": "stdout",
          "text": [
            "Accuracy of the model on the test images: 10.25 %\n"
          ]
        }
      ]
    }
  ]
}